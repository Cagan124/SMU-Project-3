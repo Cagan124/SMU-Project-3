{
 "cells": [
  {
   "cell_type": "code",
   "execution_count": 1,
   "id": "e0bb20bb",
   "metadata": {},
   "outputs": [],
   "source": [
    "import pandas as pd\n",
    "import matplotlib.pyplot as plt\n",
    "import locale "
   ]
  },
  {
   "cell_type": "code",
   "execution_count": 2,
   "id": "80db0020",
   "metadata": {},
   "outputs": [
    {
     "data": {
      "text/html": [
       "<div>\n",
       "<style scoped>\n",
       "    .dataframe tbody tr th:only-of-type {\n",
       "        vertical-align: middle;\n",
       "    }\n",
       "\n",
       "    .dataframe tbody tr th {\n",
       "        vertical-align: top;\n",
       "    }\n",
       "\n",
       "    .dataframe thead th {\n",
       "        text-align: right;\n",
       "    }\n",
       "</style>\n",
       "<table border=\"1\" class=\"dataframe\">\n",
       "  <thead>\n",
       "    <tr style=\"text-align: right;\">\n",
       "      <th></th>\n",
       "      <th>BROKERTITLE</th>\n",
       "      <th>TYPE</th>\n",
       "      <th>PRICE</th>\n",
       "      <th>BEDS</th>\n",
       "      <th>BATH</th>\n",
       "      <th>PROPERTYSQFT</th>\n",
       "      <th>ADDRESS</th>\n",
       "      <th>STATE</th>\n",
       "      <th>MAIN_ADDRESS</th>\n",
       "      <th>ADMINISTRATIVE_AREA_LEVEL_2</th>\n",
       "      <th>LOCALITY</th>\n",
       "      <th>SUBLOCALITY</th>\n",
       "      <th>STREET_NAME</th>\n",
       "      <th>LONG_NAME</th>\n",
       "      <th>FORMATTED_ADDRESS</th>\n",
       "      <th>LATITUDE</th>\n",
       "      <th>LONGITUDE</th>\n",
       "    </tr>\n",
       "  </thead>\n",
       "  <tbody>\n",
       "    <tr>\n",
       "      <th>0</th>\n",
       "      <td>Brokered by Douglas Elliman  -111 Fifth Ave</td>\n",
       "      <td>Condo for sale</td>\n",
       "      <td>315000</td>\n",
       "      <td>2</td>\n",
       "      <td>2.000000</td>\n",
       "      <td>1400.0</td>\n",
       "      <td>2 E 55th St Unit 803</td>\n",
       "      <td>New York, NY 10022</td>\n",
       "      <td>2 E 55th St Unit 803New York, NY 10022</td>\n",
       "      <td>New York County</td>\n",
       "      <td>New York</td>\n",
       "      <td>Manhattan</td>\n",
       "      <td>East 55th Street</td>\n",
       "      <td>Regis Residence</td>\n",
       "      <td>Regis Residence, 2 E 55th St #803, New York, N...</td>\n",
       "      <td>40.761255</td>\n",
       "      <td>-73.974483</td>\n",
       "    </tr>\n",
       "    <tr>\n",
       "      <th>1</th>\n",
       "      <td>Brokered by Serhant</td>\n",
       "      <td>Condo for sale</td>\n",
       "      <td>195000000</td>\n",
       "      <td>7</td>\n",
       "      <td>10.000000</td>\n",
       "      <td>17545.0</td>\n",
       "      <td>Central Park Tower Penthouse-217 W 57th New Yo...</td>\n",
       "      <td>New York, NY 10019</td>\n",
       "      <td>Central Park Tower Penthouse-217 W 57th New Yo...</td>\n",
       "      <td>United States</td>\n",
       "      <td>New York</td>\n",
       "      <td>New York County</td>\n",
       "      <td>New York</td>\n",
       "      <td>West 57th Street</td>\n",
       "      <td>217 W 57th St, New York, NY 10019, USA</td>\n",
       "      <td>40.766393</td>\n",
       "      <td>-73.980991</td>\n",
       "    </tr>\n",
       "    <tr>\n",
       "      <th>2</th>\n",
       "      <td>Brokered by Sowae Corp</td>\n",
       "      <td>House for sale</td>\n",
       "      <td>260000</td>\n",
       "      <td>4</td>\n",
       "      <td>2.000000</td>\n",
       "      <td>2015.0</td>\n",
       "      <td>620 Sinclair Ave</td>\n",
       "      <td>Staten Island, NY 10312</td>\n",
       "      <td>620 Sinclair AveStaten Island, NY 10312</td>\n",
       "      <td>United States</td>\n",
       "      <td>New York</td>\n",
       "      <td>Richmond County</td>\n",
       "      <td>Staten Island</td>\n",
       "      <td>Sinclair Avenue</td>\n",
       "      <td>620 Sinclair Ave, Staten Island, NY 10312, USA</td>\n",
       "      <td>40.541805</td>\n",
       "      <td>-74.196109</td>\n",
       "    </tr>\n",
       "    <tr>\n",
       "      <th>3</th>\n",
       "      <td>Brokered by COMPASS</td>\n",
       "      <td>Condo for sale</td>\n",
       "      <td>69000</td>\n",
       "      <td>3</td>\n",
       "      <td>1.000000</td>\n",
       "      <td>445.0</td>\n",
       "      <td>2 E 55th St Unit 908W33</td>\n",
       "      <td>Manhattan, NY 10022</td>\n",
       "      <td>2 E 55th St Unit 908W33Manhattan, NY 10022</td>\n",
       "      <td>United States</td>\n",
       "      <td>New York</td>\n",
       "      <td>New York County</td>\n",
       "      <td>New York</td>\n",
       "      <td>East 55th Street</td>\n",
       "      <td>2 E 55th St, New York, NY 10022, USA</td>\n",
       "      <td>40.761398</td>\n",
       "      <td>-73.974613</td>\n",
       "    </tr>\n",
       "    <tr>\n",
       "      <th>4</th>\n",
       "      <td>Brokered by Sotheby's International Realty - E...</td>\n",
       "      <td>Townhouse for sale</td>\n",
       "      <td>55000000</td>\n",
       "      <td>7</td>\n",
       "      <td>2.373861</td>\n",
       "      <td>14175.0</td>\n",
       "      <td>5 E 64th St</td>\n",
       "      <td>New York, NY 10065</td>\n",
       "      <td>5 E 64th StNew York, NY 10065</td>\n",
       "      <td>United States</td>\n",
       "      <td>New York</td>\n",
       "      <td>New York County</td>\n",
       "      <td>New York</td>\n",
       "      <td>East 64th Street</td>\n",
       "      <td>5 E 64th St, New York, NY 10065, USA</td>\n",
       "      <td>40.767224</td>\n",
       "      <td>-73.969856</td>\n",
       "    </tr>\n",
       "  </tbody>\n",
       "</table>\n",
       "</div>"
      ],
      "text/plain": [
       "                                         BROKERTITLE                TYPE  \\\n",
       "0        Brokered by Douglas Elliman  -111 Fifth Ave      Condo for sale   \n",
       "1                                Brokered by Serhant      Condo for sale   \n",
       "2                             Brokered by Sowae Corp      House for sale   \n",
       "3                                Brokered by COMPASS      Condo for sale   \n",
       "4  Brokered by Sotheby's International Realty - E...  Townhouse for sale   \n",
       "\n",
       "       PRICE  BEDS       BATH  PROPERTYSQFT  \\\n",
       "0     315000     2   2.000000        1400.0   \n",
       "1  195000000     7  10.000000       17545.0   \n",
       "2     260000     4   2.000000        2015.0   \n",
       "3      69000     3   1.000000         445.0   \n",
       "4   55000000     7   2.373861       14175.0   \n",
       "\n",
       "                                             ADDRESS                    STATE  \\\n",
       "0                               2 E 55th St Unit 803       New York, NY 10022   \n",
       "1  Central Park Tower Penthouse-217 W 57th New Yo...       New York, NY 10019   \n",
       "2                                   620 Sinclair Ave  Staten Island, NY 10312   \n",
       "3                            2 E 55th St Unit 908W33      Manhattan, NY 10022   \n",
       "4                                        5 E 64th St       New York, NY 10065   \n",
       "\n",
       "                                        MAIN_ADDRESS  \\\n",
       "0             2 E 55th St Unit 803New York, NY 10022   \n",
       "1  Central Park Tower Penthouse-217 W 57th New Yo...   \n",
       "2            620 Sinclair AveStaten Island, NY 10312   \n",
       "3         2 E 55th St Unit 908W33Manhattan, NY 10022   \n",
       "4                      5 E 64th StNew York, NY 10065   \n",
       "\n",
       "  ADMINISTRATIVE_AREA_LEVEL_2  LOCALITY      SUBLOCALITY       STREET_NAME  \\\n",
       "0             New York County  New York        Manhattan  East 55th Street   \n",
       "1               United States  New York  New York County          New York   \n",
       "2               United States  New York  Richmond County     Staten Island   \n",
       "3               United States  New York  New York County          New York   \n",
       "4               United States  New York  New York County          New York   \n",
       "\n",
       "          LONG_NAME                                  FORMATTED_ADDRESS  \\\n",
       "0   Regis Residence  Regis Residence, 2 E 55th St #803, New York, N...   \n",
       "1  West 57th Street             217 W 57th St, New York, NY 10019, USA   \n",
       "2   Sinclair Avenue     620 Sinclair Ave, Staten Island, NY 10312, USA   \n",
       "3  East 55th Street               2 E 55th St, New York, NY 10022, USA   \n",
       "4  East 64th Street               5 E 64th St, New York, NY 10065, USA   \n",
       "\n",
       "    LATITUDE  LONGITUDE  \n",
       "0  40.761255 -73.974483  \n",
       "1  40.766393 -73.980991  \n",
       "2  40.541805 -74.196109  \n",
       "3  40.761398 -73.974613  \n",
       "4  40.767224 -73.969856  "
      ]
     },
     "execution_count": 2,
     "metadata": {},
     "output_type": "execute_result"
    }
   ],
   "source": [
    "df = pd.read_csv(\"Resources/NY-House-Dataset.csv\")\n",
    "df.head()"
   ]
  },
  {
   "cell_type": "code",
   "execution_count": 3,
   "id": "955a6da6",
   "metadata": {},
   "outputs": [
    {
     "name": "stdout",
     "output_type": "stream",
     "text": [
      "<class 'pandas.core.frame.DataFrame'>\n",
      "RangeIndex: 4801 entries, 0 to 4800\n",
      "Data columns (total 17 columns):\n",
      " #   Column                       Non-Null Count  Dtype  \n",
      "---  ------                       --------------  -----  \n",
      " 0   BROKERTITLE                  4801 non-null   object \n",
      " 1   TYPE                         4801 non-null   object \n",
      " 2   PRICE                        4801 non-null   int64  \n",
      " 3   BEDS                         4801 non-null   int64  \n",
      " 4   BATH                         4801 non-null   float64\n",
      " 5   PROPERTYSQFT                 4801 non-null   float64\n",
      " 6   ADDRESS                      4801 non-null   object \n",
      " 7   STATE                        4801 non-null   object \n",
      " 8   MAIN_ADDRESS                 4801 non-null   object \n",
      " 9   ADMINISTRATIVE_AREA_LEVEL_2  4801 non-null   object \n",
      " 10  LOCALITY                     4801 non-null   object \n",
      " 11  SUBLOCALITY                  4801 non-null   object \n",
      " 12  STREET_NAME                  4801 non-null   object \n",
      " 13  LONG_NAME                    4801 non-null   object \n",
      " 14  FORMATTED_ADDRESS            4801 non-null   object \n",
      " 15  LATITUDE                     4801 non-null   float64\n",
      " 16  LONGITUDE                    4801 non-null   float64\n",
      "dtypes: float64(4), int64(2), object(11)\n",
      "memory usage: 637.8+ KB\n"
     ]
    }
   ],
   "source": [
    "df.info()"
   ]
  },
  {
   "cell_type": "code",
   "execution_count": 4,
   "id": "27cf1f5e",
   "metadata": {},
   "outputs": [],
   "source": [
    "# #data = {'PRICE': [df.PRICE]}\n",
    "# df2 = pd.DataFrame(data)\n",
    "\n",
    "# # Define the conversion function\n",
    "# def convert_scientific_to_standard(number):\n",
    "#     return \"{:.0f}\".format(number)\n",
    "\n",
    "# # Apply the conversion function to the 'Value' column\n",
    "# df2['PRICE'] = df2['PRICE'].apply(convert_scientific_to_standard)\n",
    "\n",
    "# # Print the updated DataFrame\n",
    "# print(df2)"
   ]
  },
  {
   "cell_type": "code",
   "execution_count": 5,
   "id": "224f6d0c",
   "metadata": {},
   "outputs": [
    {
     "data": {
      "text/plain": [
       "214"
      ]
     },
     "execution_count": 5,
     "metadata": {},
     "output_type": "execute_result"
    }
   ],
   "source": [
    " #Check any duplicate record\n",
    "\n",
    "df.duplicated().sum()"
   ]
  },
  {
   "cell_type": "code",
   "execution_count": 6,
   "id": "f80a2b3f",
   "metadata": {},
   "outputs": [],
   "source": [
    "# Drop duplicate records\n",
    "\n",
    "df.drop_duplicates(inplace=True)"
   ]
  },
  {
   "cell_type": "code",
   "execution_count": 7,
   "id": "5a076618",
   "metadata": {},
   "outputs": [],
   "source": [
    "df = df[df['TYPE'].isin(['Land for sale'])==False] # leaving houses only"
   ]
  },
  {
   "cell_type": "code",
   "execution_count": 8,
   "id": "c2b0ee14",
   "metadata": {},
   "outputs": [
    {
     "data": {
      "text/plain": [
       "array(['Condo for sale', 'House for sale', 'Townhouse for sale',\n",
       "       'Co-op for sale', 'Multi-family home for sale', 'For sale',\n",
       "       'Contingent', 'Foreclosure', 'Pending', 'Coming Soon',\n",
       "       'Mobile house for sale', 'Condop for sale'], dtype=object)"
      ]
     },
     "execution_count": 8,
     "metadata": {},
     "output_type": "execute_result"
    }
   ],
   "source": [
    "df.TYPE.unique()"
   ]
  },
  {
   "cell_type": "code",
   "execution_count": 9,
   "id": "827fa989",
   "metadata": {},
   "outputs": [],
   "source": [
    "df = df[df['TYPE'].isin(['Foreclosure'])==False]"
   ]
  },
  {
   "cell_type": "code",
   "execution_count": 10,
   "id": "e0763c43",
   "metadata": {},
   "outputs": [],
   "source": [
    "df = df[df['TYPE'].isin(['Pending'])==False]"
   ]
  },
  {
   "cell_type": "code",
   "execution_count": 11,
   "id": "b754ef8e",
   "metadata": {},
   "outputs": [],
   "source": [
    "df = df[df['TYPE'].isin(['Coming Soon', 'Contingent', 'For sale', 'Mobile house for sale', 'Condop for sale'])==False]"
   ]
  },
  {
   "cell_type": "code",
   "execution_count": 12,
   "id": "fbf70c8a",
   "metadata": {},
   "outputs": [
    {
     "name": "stdout",
     "output_type": "stream",
     "text": [
      "<class 'pandas.core.frame.DataFrame'>\n",
      "Index: 4183 entries, 0 to 4800\n",
      "Data columns (total 17 columns):\n",
      " #   Column                       Non-Null Count  Dtype  \n",
      "---  ------                       --------------  -----  \n",
      " 0   BROKERTITLE                  4183 non-null   object \n",
      " 1   TYPE                         4183 non-null   object \n",
      " 2   PRICE                        4183 non-null   int64  \n",
      " 3   BEDS                         4183 non-null   int64  \n",
      " 4   BATH                         4183 non-null   float64\n",
      " 5   PROPERTYSQFT                 4183 non-null   float64\n",
      " 6   ADDRESS                      4183 non-null   object \n",
      " 7   STATE                        4183 non-null   object \n",
      " 8   MAIN_ADDRESS                 4183 non-null   object \n",
      " 9   ADMINISTRATIVE_AREA_LEVEL_2  4183 non-null   object \n",
      " 10  LOCALITY                     4183 non-null   object \n",
      " 11  SUBLOCALITY                  4183 non-null   object \n",
      " 12  STREET_NAME                  4183 non-null   object \n",
      " 13  LONG_NAME                    4183 non-null   object \n",
      " 14  FORMATTED_ADDRESS            4183 non-null   object \n",
      " 15  LATITUDE                     4183 non-null   float64\n",
      " 16  LONGITUDE                    4183 non-null   float64\n",
      "dtypes: float64(4), int64(2), object(11)\n",
      "memory usage: 588.2+ KB\n"
     ]
    }
   ],
   "source": [
    "df.info()"
   ]
  },
  {
   "cell_type": "code",
   "execution_count": 13,
   "id": "8ec03216",
   "metadata": {},
   "outputs": [
    {
     "data": {
      "text/plain": [
       "array(['Condo for sale', 'House for sale', 'Townhouse for sale',\n",
       "       'Co-op for sale', 'Multi-family home for sale'], dtype=object)"
      ]
     },
     "execution_count": 13,
     "metadata": {},
     "output_type": "execute_result"
    }
   ],
   "source": [
    "df.TYPE.unique()"
   ]
  },
  {
   "cell_type": "code",
   "execution_count": 14,
   "id": "3c556257",
   "metadata": {},
   "outputs": [
    {
     "data": {
      "text/plain": [
       "TYPE\n",
       "Co-op for sale                1388\n",
       "House for sale                 966\n",
       "Condo for sale                 842\n",
       "Multi-family home for sale     699\n",
       "Townhouse for sale             288\n",
       "Name: count, dtype: int64"
      ]
     },
     "execution_count": 14,
     "metadata": {},
     "output_type": "execute_result"
    }
   ],
   "source": [
    "df.TYPE.value_counts()"
   ]
  },
  {
   "cell_type": "code",
   "execution_count": 15,
   "id": "caa0a96e",
   "metadata": {},
   "outputs": [],
   "source": [
    "#df['PRICE'] = df['PRICE'].apply(lambda x: '{:.9f}'.format(float(x)))"
   ]
  },
  {
   "cell_type": "code",
   "execution_count": 16,
   "id": "21883d18",
   "metadata": {},
   "outputs": [
    {
     "data": {
      "text/html": [
       "<div>\n",
       "<style scoped>\n",
       "    .dataframe tbody tr th:only-of-type {\n",
       "        vertical-align: middle;\n",
       "    }\n",
       "\n",
       "    .dataframe tbody tr th {\n",
       "        vertical-align: top;\n",
       "    }\n",
       "\n",
       "    .dataframe thead th {\n",
       "        text-align: right;\n",
       "    }\n",
       "</style>\n",
       "<table border=\"1\" class=\"dataframe\">\n",
       "  <thead>\n",
       "    <tr style=\"text-align: right;\">\n",
       "      <th></th>\n",
       "      <th>PRICE</th>\n",
       "      <th>BEDS</th>\n",
       "      <th>BATH</th>\n",
       "      <th>PROPERTYSQFT</th>\n",
       "      <th>LATITUDE</th>\n",
       "      <th>LONGITUDE</th>\n",
       "    </tr>\n",
       "    <tr>\n",
       "      <th>TYPE</th>\n",
       "      <th></th>\n",
       "      <th></th>\n",
       "      <th></th>\n",
       "      <th></th>\n",
       "      <th></th>\n",
       "      <th></th>\n",
       "    </tr>\n",
       "  </thead>\n",
       "  <tbody>\n",
       "    <tr>\n",
       "      <th>Co-op for sale</th>\n",
       "      <td>1.113426e+06</td>\n",
       "      <td>1.984870</td>\n",
       "      <td>1.438754</td>\n",
       "      <td>1658.496424</td>\n",
       "      <td>40.747603</td>\n",
       "      <td>-73.920662</td>\n",
       "    </tr>\n",
       "    <tr>\n",
       "      <th>Condo for sale</th>\n",
       "      <td>2.615780e+06</td>\n",
       "      <td>2.327791</td>\n",
       "      <td>2.002798</td>\n",
       "      <td>1571.731184</td>\n",
       "      <td>40.724426</td>\n",
       "      <td>-73.954237</td>\n",
       "    </tr>\n",
       "    <tr>\n",
       "      <th>House for sale</th>\n",
       "      <td>3.786544e+06</td>\n",
       "      <td>3.733954</td>\n",
       "      <td>2.532248</td>\n",
       "      <td>2254.455492</td>\n",
       "      <td>40.678153</td>\n",
       "      <td>-73.946532</td>\n",
       "    </tr>\n",
       "    <tr>\n",
       "      <th>Multi-family home for sale</th>\n",
       "      <td>1.666781e+06</td>\n",
       "      <td>6.261803</td>\n",
       "      <td>3.936427</td>\n",
       "      <td>3210.209600</td>\n",
       "      <td>40.700932</td>\n",
       "      <td>-73.927708</td>\n",
       "    </tr>\n",
       "    <tr>\n",
       "      <th>Townhouse for sale</th>\n",
       "      <td>6.406234e+06</td>\n",
       "      <td>5.020833</td>\n",
       "      <td>3.874356</td>\n",
       "      <td>3887.512776</td>\n",
       "      <td>40.718419</td>\n",
       "      <td>-73.971435</td>\n",
       "    </tr>\n",
       "  </tbody>\n",
       "</table>\n",
       "</div>"
      ],
      "text/plain": [
       "                                   PRICE      BEDS      BATH  PROPERTYSQFT  \\\n",
       "TYPE                                                                         \n",
       "Co-op for sale              1.113426e+06  1.984870  1.438754   1658.496424   \n",
       "Condo for sale              2.615780e+06  2.327791  2.002798   1571.731184   \n",
       "House for sale              3.786544e+06  3.733954  2.532248   2254.455492   \n",
       "Multi-family home for sale  1.666781e+06  6.261803  3.936427   3210.209600   \n",
       "Townhouse for sale          6.406234e+06  5.020833  3.874356   3887.512776   \n",
       "\n",
       "                             LATITUDE  LONGITUDE  \n",
       "TYPE                                              \n",
       "Co-op for sale              40.747603 -73.920662  \n",
       "Condo for sale              40.724426 -73.954237  \n",
       "House for sale              40.678153 -73.946532  \n",
       "Multi-family home for sale  40.700932 -73.927708  \n",
       "Townhouse for sale          40.718419 -73.971435  "
      ]
     },
     "execution_count": 16,
     "metadata": {},
     "output_type": "execute_result"
    }
   ],
   "source": [
    "regions = df.groupby('TYPE').mean('PRICE')\n",
    "regions.head()"
   ]
  },
  {
   "cell_type": "code",
   "execution_count": 17,
   "id": "1dfe764e",
   "metadata": {},
   "outputs": [],
   "source": [
    "avg_price = regions.sort_values(by=['PRICE'], ascending=False)"
   ]
  },
  {
   "cell_type": "code",
   "execution_count": 18,
   "id": "01731dc0",
   "metadata": {},
   "outputs": [
    {
     "data": {
      "text/plain": [
       "PRICE           5\n",
       "BEDS            5\n",
       "BATH            5\n",
       "PROPERTYSQFT    5\n",
       "LATITUDE        5\n",
       "LONGITUDE       5\n",
       "dtype: int64"
      ]
     },
     "execution_count": 18,
     "metadata": {},
     "output_type": "execute_result"
    }
   ],
   "source": [
    "regions.nunique()"
   ]
  },
  {
   "cell_type": "code",
   "execution_count": 19,
   "id": "d72f255c",
   "metadata": {},
   "outputs": [
    {
     "data": {
      "image/png": "[encoded data removed]",
      "text/plain": [
       "<Figure size 640x480 with 1 Axes>"
      ]
     },
     "metadata": {},
     "output_type": "display_data"
    }
   ],
   "source": [
    "# what are the top 10 sublocalities by price\n",
    "data = avg_price\n",
    "\n",
    "plt.barh(data.index, data.PRICE)\n",
    "plt.xticks(rotation=60)\n",
    "plt.show()"
   ]
  },
  {
   "cell_type": "code",
   "execution_count": null,
   "id": "a459f56c",
   "metadata": {},
   "outputs": [],
   "source": []
  }
 ],
 "metadata": {
  "kernelspec": {
   "display_name": "Python 3 (ipykernel)",
   "language": "python",
   "name": "python3"
  },
  "language_info": {
   "codemirror_mode": {
    "name": "ipython",
    "version": 3
   },
   "file_extension": ".py",
   "mimetype": "text/x-python",
   "name": "python",
   "nbconvert_exporter": "python",
   "pygments_lexer": "ipython3",
   "version": "3.10.13"
  }
 },
 "nbformat": 4,
 "nbformat_minor": 5
}
